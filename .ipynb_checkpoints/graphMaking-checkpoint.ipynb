{
 "cells": [
  {
   "cell_type": "code",
   "execution_count": 16,
   "metadata": {},
   "outputs": [],
   "source": [
    "import pandas as pd\n",
    "from statistics import mean \n",
    "# RUN ALL THE CODE BEFORE YOU START\n",
    "import numpy as np\n",
    "from matplotlib.pylab import plt #load plot library\n",
    "# indicate the output of plotting function is printed to the notebook\n",
    "%matplotlib inline "
   ]
  },
  {
   "cell_type": "code",
   "execution_count": 19,
   "metadata": {},
   "outputs": [],
   "source": [
    "qDF = pd.read_csv(\"WinDiffForQPolicy.csv\")\n",
    "randDF = pd.read_csv(\"WinDiffForRandomPolicy.csv\")\n",
    "heurDF = pd.read_csv(\"WinDiffForHeuristic.csv\")"
   ]
  },
  {
   "cell_type": "code",
   "execution_count": 20,
   "metadata": {},
   "outputs": [
    {
     "name": "stdout",
     "output_type": "stream",
     "text": [
      "101\n",
      "101\n",
      "101\n"
     ]
    }
   ],
   "source": [
    "winDiffQList = qDF['winDiff'].to_list()\n",
    "avgQList = qDF['avg'].to_list()\n",
    "xCords = qDF['i'].to_list()\n",
    "winDiffQFinalList = []\n",
    "avgQFinalList = []\n",
    "xCordsFinalList = []\n",
    "\n",
    "for i in range(len(winDiffQList)):\n",
    "    if i % 1000 == 0:\n",
    "        winDiffQFinalList.append(winDiffQList[i])\n",
    "        xCordsFinalList.append(xCords[i])\n",
    "        avgQFinalList.append(avgQList[i])\n",
    "print(len(winDiffQFinalList))\n",
    "print(len(avgQFinalList))\n",
    "print(len(xCordsFinalList))"
   ]
  },
  {
   "cell_type": "code",
   "execution_count": 21,
   "metadata": {},
   "outputs": [
    {
     "name": "stdout",
     "output_type": "stream",
     "text": [
      "101\n",
      "101\n",
      "101\n"
     ]
    }
   ],
   "source": [
    "winDiffRandList = randDF['winDiff'].to_list()\n",
    "avgRandList = randDF['avg'].to_list()\n",
    "\n",
    "winDiffRandFinalList = []\n",
    "avgRandFinalList = []\n",
    "\n",
    "for i in range(len(winDiffRandList)):\n",
    "    if i % 1000 == 0:\n",
    "        winDiffRandFinalList.append(winDiffRandList[i])\n",
    "        avgRandFinalList.append(avgRandList[i])\n",
    "\n",
    "print(len(winDiffRandFinalList))\n",
    "print(len(avgRandFinalList))\n",
    "print(len(xCordsFinalList))\n"
   ]
  },
  {
   "cell_type": "code",
   "execution_count": 22,
   "metadata": {},
   "outputs": [
    {
     "name": "stdout",
     "output_type": "stream",
     "text": [
      "101\n",
      "101\n",
      "101\n"
     ]
    }
   ],
   "source": [
    "winDiffHeurList = heurDF['winDiff'].to_list()\n",
    "avgHeurList = heurDF['avg'].to_list()\n",
    "\n",
    "winDiffHeurFinalList = []\n",
    "avgHeurFinalList = []\n",
    "\n",
    "for i in range(len(winDiffHeurList)):\n",
    "    if i % 1000 == 0:\n",
    "        winDiffHeurFinalList.append(winDiffHeurList[i])\n",
    "        avgHeurFinalList.append(avgHeurList[i])\n",
    "\n",
    "print(len(winDiffHeurFinalList))\n",
    "print(len(avgHeurFinalList))\n",
    "print(len(xCordsFinalList))"
   ]
  },
  {
   "cell_type": "code",
   "execution_count": 23,
   "metadata": {},
   "outputs": [
    {
     "data": {
      "image/png": "[encoded data removed]",
      "text/plain": [
       "<Figure size 432x288 with 1 Axes>"
      ]
     },
     "metadata": {
      "needs_background": "light"
     },
     "output_type": "display_data"
    }
   ],
   "source": [
    "\n",
    "\n",
    "plt.plot(xCordsFinalList, avgQFinalList, label=\"Q-Learning Bot\")\n",
    "plt.plot(xCordsFinalList, avgRandFinalList, label=\"Random Bot\")\n",
    "plt.plot(xCordsFinalList, avgHeurFinalList, label=\"Heuristic Bot\")\n",
    "\n",
    "# fig_size = plt.rcParams[\"figure.figsize\"]\n",
    "# fig_size[0] = 7\n",
    "# fig_size[1] = 6\n",
    "# plt.rcParams[\"figure.figsize\"] = fig_size\n",
    "\n",
    "plt.title('Average Rewards Per Bot')\n",
    "plt.xlabel('Episode')\n",
    "plt.ylabel('Average Reward')\n",
    "# plt.yscale('log')\n",
    "plt.legend()\n",
    "plt.show()\n",
    "# plt.savefig('timeLines.png')"
   ]
  },
  {
   "cell_type": "code",
   "execution_count": 26,
   "metadata": {},
   "outputs": [],
   "source": [
    "analysisDF = pd.read_csv(\"AnalysisV3AfterBugFix.csv\")"
   ]
  },
  {
   "cell_type": "code",
   "execution_count": 33,
   "metadata": {},
   "outputs": [
    {
     "data": {
      "text/html": [
       "<div>\n",
       "<style scoped>\n",
       "    .dataframe tbody tr th:only-of-type {\n",
       "        vertical-align: middle;\n",
       "    }\n",
       "\n",
       "    .dataframe tbody tr th {\n",
       "        vertical-align: top;\n",
       "    }\n",
       "\n",
       "    .dataframe thead th {\n",
       "        text-align: right;\n",
       "    }\n",
       "</style>\n",
       "<table border=\"1\" class=\"dataframe\">\n",
       "  <thead>\n",
       "    <tr style=\"text-align: right;\">\n",
       "      <th></th>\n",
       "      <th>name</th>\n",
       "      <th>wins</th>\n",
       "      <th>ties</th>\n",
       "      <th>losses</th>\n",
       "      <th>winDiff</th>\n",
       "      <th>alpha</th>\n",
       "      <th>discount</th>\n",
       "      <th>eps</th>\n",
       "    </tr>\n",
       "  </thead>\n",
       "  <tbody>\n",
       "    <tr>\n",
       "      <th>0</th>\n",
       "      <td>policy1</td>\n",
       "      <td>37052</td>\n",
       "      <td>3762</td>\n",
       "      <td>59186</td>\n",
       "      <td>-22134</td>\n",
       "      <td>0.9</td>\n",
       "      <td>0.9</td>\n",
       "      <td>0.10</td>\n",
       "    </tr>\n",
       "    <tr>\n",
       "      <th>1</th>\n",
       "      <td>policy2</td>\n",
       "      <td>36986</td>\n",
       "      <td>3643</td>\n",
       "      <td>59371</td>\n",
       "      <td>-22385</td>\n",
       "      <td>0.8</td>\n",
       "      <td>0.9</td>\n",
       "      <td>0.10</td>\n",
       "    </tr>\n",
       "    <tr>\n",
       "      <th>2</th>\n",
       "      <td>policy3</td>\n",
       "      <td>37063</td>\n",
       "      <td>3748</td>\n",
       "      <td>59189</td>\n",
       "      <td>-22126</td>\n",
       "      <td>0.7</td>\n",
       "      <td>0.9</td>\n",
       "      <td>0.10</td>\n",
       "    </tr>\n",
       "    <tr>\n",
       "      <th>3</th>\n",
       "      <td>policy4</td>\n",
       "      <td>36843</td>\n",
       "      <td>3752</td>\n",
       "      <td>59405</td>\n",
       "      <td>-22562</td>\n",
       "      <td>0.6</td>\n",
       "      <td>0.9</td>\n",
       "      <td>0.10</td>\n",
       "    </tr>\n",
       "    <tr>\n",
       "      <th>4</th>\n",
       "      <td>policy5</td>\n",
       "      <td>37025</td>\n",
       "      <td>3776</td>\n",
       "      <td>59199</td>\n",
       "      <td>-22174</td>\n",
       "      <td>0.5</td>\n",
       "      <td>0.9</td>\n",
       "      <td>0.10</td>\n",
       "    </tr>\n",
       "    <tr>\n",
       "      <th>5</th>\n",
       "      <td>policy6</td>\n",
       "      <td>37042</td>\n",
       "      <td>3659</td>\n",
       "      <td>59299</td>\n",
       "      <td>-22257</td>\n",
       "      <td>0.4</td>\n",
       "      <td>0.9</td>\n",
       "      <td>0.10</td>\n",
       "    </tr>\n",
       "    <tr>\n",
       "      <th>6</th>\n",
       "      <td>policy7</td>\n",
       "      <td>37062</td>\n",
       "      <td>3725</td>\n",
       "      <td>59213</td>\n",
       "      <td>-22151</td>\n",
       "      <td>0.3</td>\n",
       "      <td>0.9</td>\n",
       "      <td>0.10</td>\n",
       "    </tr>\n",
       "    <tr>\n",
       "      <th>7</th>\n",
       "      <td>policy8</td>\n",
       "      <td>37070</td>\n",
       "      <td>3668</td>\n",
       "      <td>59262</td>\n",
       "      <td>-22192</td>\n",
       "      <td>0.2</td>\n",
       "      <td>0.9</td>\n",
       "      <td>0.10</td>\n",
       "    </tr>\n",
       "    <tr>\n",
       "      <th>8</th>\n",
       "      <td>policy9</td>\n",
       "      <td>37065</td>\n",
       "      <td>3745</td>\n",
       "      <td>59190</td>\n",
       "      <td>-22125</td>\n",
       "      <td>0.1</td>\n",
       "      <td>0.9</td>\n",
       "      <td>0.10</td>\n",
       "    </tr>\n",
       "    <tr>\n",
       "      <th>9</th>\n",
       "      <td>policy11</td>\n",
       "      <td>37305</td>\n",
       "      <td>3737</td>\n",
       "      <td>58958</td>\n",
       "      <td>-21653</td>\n",
       "      <td>0.1</td>\n",
       "      <td>0.8</td>\n",
       "      <td>0.10</td>\n",
       "    </tr>\n",
       "    <tr>\n",
       "      <th>10</th>\n",
       "      <td>policy12</td>\n",
       "      <td>37013</td>\n",
       "      <td>3769</td>\n",
       "      <td>59218</td>\n",
       "      <td>-22205</td>\n",
       "      <td>0.1</td>\n",
       "      <td>0.7</td>\n",
       "      <td>0.10</td>\n",
       "    </tr>\n",
       "    <tr>\n",
       "      <th>11</th>\n",
       "      <td>policy12</td>\n",
       "      <td>36775</td>\n",
       "      <td>3798</td>\n",
       "      <td>59427</td>\n",
       "      <td>-22652</td>\n",
       "      <td>0.1</td>\n",
       "      <td>0.6</td>\n",
       "      <td>0.10</td>\n",
       "    </tr>\n",
       "    <tr>\n",
       "      <th>12</th>\n",
       "      <td>policy13</td>\n",
       "      <td>37085</td>\n",
       "      <td>3751</td>\n",
       "      <td>59164</td>\n",
       "      <td>-22079</td>\n",
       "      <td>0.1</td>\n",
       "      <td>0.5</td>\n",
       "      <td>0.10</td>\n",
       "    </tr>\n",
       "    <tr>\n",
       "      <th>13</th>\n",
       "      <td>policy14</td>\n",
       "      <td>36853</td>\n",
       "      <td>3689</td>\n",
       "      <td>59458</td>\n",
       "      <td>-22605</td>\n",
       "      <td>0.1</td>\n",
       "      <td>0.4</td>\n",
       "      <td>0.10</td>\n",
       "    </tr>\n",
       "    <tr>\n",
       "      <th>14</th>\n",
       "      <td>policy15</td>\n",
       "      <td>37115</td>\n",
       "      <td>3709</td>\n",
       "      <td>59176</td>\n",
       "      <td>-22061</td>\n",
       "      <td>0.1</td>\n",
       "      <td>0.3</td>\n",
       "      <td>0.10</td>\n",
       "    </tr>\n",
       "    <tr>\n",
       "      <th>15</th>\n",
       "      <td>policy16</td>\n",
       "      <td>37169</td>\n",
       "      <td>3708</td>\n",
       "      <td>59123</td>\n",
       "      <td>-21954</td>\n",
       "      <td>0.1</td>\n",
       "      <td>0.2</td>\n",
       "      <td>0.10</td>\n",
       "    </tr>\n",
       "    <tr>\n",
       "      <th>16</th>\n",
       "      <td>policy17</td>\n",
       "      <td>37016</td>\n",
       "      <td>3758</td>\n",
       "      <td>59226</td>\n",
       "      <td>-22210</td>\n",
       "      <td>0.1</td>\n",
       "      <td>0.1</td>\n",
       "      <td>0.10</td>\n",
       "    </tr>\n",
       "    <tr>\n",
       "      <th>17</th>\n",
       "      <td>policy18</td>\n",
       "      <td>36884</td>\n",
       "      <td>3812</td>\n",
       "      <td>59304</td>\n",
       "      <td>-22420</td>\n",
       "      <td>0.1</td>\n",
       "      <td>0.9</td>\n",
       "      <td>0.05</td>\n",
       "    </tr>\n",
       "    <tr>\n",
       "      <th>18</th>\n",
       "      <td>policy19</td>\n",
       "      <td>36948</td>\n",
       "      <td>3729</td>\n",
       "      <td>59323</td>\n",
       "      <td>-22375</td>\n",
       "      <td>0.1</td>\n",
       "      <td>0.9</td>\n",
       "      <td>0.20</td>\n",
       "    </tr>\n",
       "    <tr>\n",
       "      <th>19</th>\n",
       "      <td>policy19</td>\n",
       "      <td>36962</td>\n",
       "      <td>3813</td>\n",
       "      <td>59225</td>\n",
       "      <td>-22263</td>\n",
       "      <td>0.1</td>\n",
       "      <td>0.9</td>\n",
       "      <td>0.30</td>\n",
       "    </tr>\n",
       "  </tbody>\n",
       "</table>\n",
       "</div>"
      ],
      "text/plain": [
       "        name   wins  ties  losses  winDiff  alpha  discount   eps\n",
       "0    policy1  37052  3762   59186   -22134    0.9       0.9  0.10\n",
       "1    policy2  36986  3643   59371   -22385    0.8       0.9  0.10\n",
       "2    policy3  37063  3748   59189   -22126    0.7       0.9  0.10\n",
       "3    policy4  36843  3752   59405   -22562    0.6       0.9  0.10\n",
       "4    policy5  37025  3776   59199   -22174    0.5       0.9  0.10\n",
       "5    policy6  37042  3659   59299   -22257    0.4       0.9  0.10\n",
       "6    policy7  37062  3725   59213   -22151    0.3       0.9  0.10\n",
       "7    policy8  37070  3668   59262   -22192    0.2       0.9  0.10\n",
       "8    policy9  37065  3745   59190   -22125    0.1       0.9  0.10\n",
       "9   policy11  37305  3737   58958   -21653    0.1       0.8  0.10\n",
       "10  policy12  37013  3769   59218   -22205    0.1       0.7  0.10\n",
       "11  policy12  36775  3798   59427   -22652    0.1       0.6  0.10\n",
       "12  policy13  37085  3751   59164   -22079    0.1       0.5  0.10\n",
       "13  policy14  36853  3689   59458   -22605    0.1       0.4  0.10\n",
       "14  policy15  37115  3709   59176   -22061    0.1       0.3  0.10\n",
       "15  policy16  37169  3708   59123   -21954    0.1       0.2  0.10\n",
       "16  policy17  37016  3758   59226   -22210    0.1       0.1  0.10\n",
       "17  policy18  36884  3812   59304   -22420    0.1       0.9  0.05\n",
       "18  policy19  36948  3729   59323   -22375    0.1       0.9  0.20\n",
       "19  policy19  36962  3813   59225   -22263    0.1       0.9  0.30"
      ]
     },
     "execution_count": 33,
     "metadata": {},
     "output_type": "execute_result"
    }
   ],
   "source": [
    "analysisDF"
   ]
  },
  {
   "cell_type": "code",
   "execution_count": 28,
   "metadata": {},
   "outputs": [],
   "source": [
    "winDiffAList = analysisDF['winDiff'].to_list()"
   ]
  },
  {
   "cell_type": "code",
   "execution_count": 47,
   "metadata": {},
   "outputs": [],
   "source": [
    "alphaWinDiffsList = winDiffAList[0:9]\n",
    "discountWinDiffsList = winDiffAList[8:17]\n",
    "xCordsAlpha = analysisDF['alpha'].to_list()[0:9]\n",
    "finalAlphaAvgList = []\n",
    "finalDiscountAvgList = []\n",
    "\n",
    "for i in range(len(alphaWinDiffsList)):\n",
    "    finalAlphaAvgList.append(alphaWinDiffsList[i] / 100000)\n",
    "    finalDiscountAvgList.append(discountWinDiffsList[i] / 100000)\n",
    "\n"
   ]
  },
  {
   "cell_type": "code",
   "execution_count": 48,
   "metadata": {},
   "outputs": [
    {
     "data": {
      "text/plain": [
       "[-0.22134,\n",
       " -0.22385,\n",
       " -0.22126,\n",
       " -0.22562,\n",
       " -0.22174,\n",
       " -0.22257,\n",
       " -0.22151,\n",
       " -0.22192,\n",
       " -0.22125]"
      ]
     },
     "execution_count": 48,
     "metadata": {},
     "output_type": "execute_result"
    }
   ],
   "source": [
    "finalAlphaAvgList"
   ]
  },
  {
   "cell_type": "code",
   "execution_count": 51,
   "metadata": {},
   "outputs": [
    {
     "data": {
      "image/png": "[encoded data removed]",
      "text/plain": [
       "<Figure size 504x432 with 1 Axes>"
      ]
     },
     "metadata": {
      "needs_background": "light"
     },
     "output_type": "display_data"
    }
   ],
   "source": [
    "plt.plot(xCordsAlpha, finalAlphaAvgList, label=\"Alpha Changes\")\n",
    "plt.plot(xCordsAlpha,finalDiscountAvgList, label=\"Discount Changes\")\n",
    "# plt.plot(xCordsFinalList, avgRandFinalList, label=\"Random Bot\")\n",
    "# plt.plot(xCordsFinalList, avgHeurFinalList, label=\"Heuristic Bot\")\n",
    "\n",
    "fig_size = plt.rcParams[\"figure.figsize\"]\n",
    "fig_size[0] = 7\n",
    "fig_size[1] = 6\n",
    "plt.rcParams[\"figure.figsize\"] = fig_size\n",
    "\n",
    "plt.title('Hyperparameter Tuning')\n",
    "plt.xlabel('Parameter')\n",
    "plt.ylabel('Win-Loss Difference')\n",
    "# plt.yscale('log')\n",
    "plt.legend()\n",
    "plt.show()\n",
    "# plt.savefig('timeLines.png')"
   ]
  },
  {
   "cell_type": "code",
   "execution_count": null,
   "metadata": {},
   "outputs": [],
   "source": []
  }
 ],
 "metadata": {
  "kernelspec": {
   "display_name": "Python 3",
   "language": "python",
   "name": "python3"
  },
  "language_info": {
   "codemirror_mode": {
    "name": "ipython",
    "version": 3
   },
   "file_extension": ".py",
   "mimetype": "text/x-python",
   "name": "python",
   "nbconvert_exporter": "python",
   "pygments_lexer": "ipython3",
   "version": "3.7.0"
  }
 },
 "nbformat": 4,
 "nbformat_minor": 4
}
